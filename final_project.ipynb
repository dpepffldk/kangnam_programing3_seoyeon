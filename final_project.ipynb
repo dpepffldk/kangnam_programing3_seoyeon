{
 "cells": [
  {
   "cell_type": "markdown",
   "metadata": {},
   "source": [
    "## 프로그래밍3 기말 대체과제\n",
    "### - 이동통신 사용자 데이터 분석하기\n",
    "\n",
    "## 201884054 조서연"
   ]
  },
  {
   "cell_type": "code",
   "execution_count": 1,
   "metadata": {},
   "outputs": [],
   "source": [
    "import pandas as pd\n",
    "import numpy as np"
   ]
  },
  {
   "cell_type": "markdown",
   "metadata": {},
   "source": [
    "## 1. 데이터 설명\n",
    "\n",
    "#### 사용할 데이터 : 이동통신 사용자 데이터\n",
    "\n",
    "#### 데이터 컬럼 정보\n",
    "- Leave = 가입해지여부(1이면 해지)\n",
    "\n",
    "- MemberWeeks = 가입기간\n",
    "\n",
    "- NewContract = 가입갱신여부(1이면 갱신)\n",
    "\n",
    "- IsData = 데이터요금제사용여부(1이면 사용)\n",
    "\n",
    "- DataAmount = 데이터사용량(GB)\n",
    "\n",
    "- Callcenter = 고객센터전화량\n",
    "\n",
    "- CalMins = 월평균전화량(분)\n",
    "\n",
    "- CalCounts = 월평균전화수(횟수)\n",
    "\n",
    "- MonthlyFee = 월평균요금\n",
    "\n",
    "- OverFee = 초과요금\n",
    "\n",
    "- RoamingMin = 로밍시간(분)"
   ]
  },
  {
   "cell_type": "code",
   "execution_count": 2,
   "metadata": {},
   "outputs": [
    {
     "data": {
      "text/html": [
       "<div>\n",
       "<style scoped>\n",
       "    .dataframe tbody tr th:only-of-type {\n",
       "        vertical-align: middle;\n",
       "    }\n",
       "\n",
       "    .dataframe tbody tr th {\n",
       "        vertical-align: top;\n",
       "    }\n",
       "\n",
       "    .dataframe thead th {\n",
       "        text-align: right;\n",
       "    }\n",
       "</style>\n",
       "<table border=\"1\" class=\"dataframe\">\n",
       "  <thead>\n",
       "    <tr style=\"text-align: right;\">\n",
       "      <th></th>\n",
       "      <th>Leave</th>\n",
       "      <th>MemberWeeks</th>\n",
       "      <th>NewContract</th>\n",
       "      <th>IsData</th>\n",
       "      <th>DataAmount</th>\n",
       "      <th>Callcenter</th>\n",
       "      <th>CalMins</th>\n",
       "      <th>CalCounts</th>\n",
       "      <th>MonthlyFee</th>\n",
       "      <th>OverFee</th>\n",
       "      <th>RoamingMin</th>\n",
       "    </tr>\n",
       "  </thead>\n",
       "  <tbody>\n",
       "    <tr>\n",
       "      <th>0</th>\n",
       "      <td>0</td>\n",
       "      <td>128</td>\n",
       "      <td>1</td>\n",
       "      <td>1</td>\n",
       "      <td>2.7</td>\n",
       "      <td>1</td>\n",
       "      <td>265.1</td>\n",
       "      <td>110</td>\n",
       "      <td>89.0</td>\n",
       "      <td>9.87</td>\n",
       "      <td>10.0</td>\n",
       "    </tr>\n",
       "    <tr>\n",
       "      <th>1</th>\n",
       "      <td>0</td>\n",
       "      <td>107</td>\n",
       "      <td>1</td>\n",
       "      <td>1</td>\n",
       "      <td>3.7</td>\n",
       "      <td>1</td>\n",
       "      <td>161.6</td>\n",
       "      <td>123</td>\n",
       "      <td>82.0</td>\n",
       "      <td>9.78</td>\n",
       "      <td>13.7</td>\n",
       "    </tr>\n",
       "    <tr>\n",
       "      <th>2</th>\n",
       "      <td>0</td>\n",
       "      <td>137</td>\n",
       "      <td>1</td>\n",
       "      <td>0</td>\n",
       "      <td>0.0</td>\n",
       "      <td>0</td>\n",
       "      <td>243.4</td>\n",
       "      <td>114</td>\n",
       "      <td>52.0</td>\n",
       "      <td>6.06</td>\n",
       "      <td>12.2</td>\n",
       "    </tr>\n",
       "    <tr>\n",
       "      <th>3</th>\n",
       "      <td>0</td>\n",
       "      <td>84</td>\n",
       "      <td>0</td>\n",
       "      <td>0</td>\n",
       "      <td>0.0</td>\n",
       "      <td>2</td>\n",
       "      <td>299.4</td>\n",
       "      <td>71</td>\n",
       "      <td>57.0</td>\n",
       "      <td>3.10</td>\n",
       "      <td>6.6</td>\n",
       "    </tr>\n",
       "    <tr>\n",
       "      <th>4</th>\n",
       "      <td>0</td>\n",
       "      <td>75</td>\n",
       "      <td>0</td>\n",
       "      <td>0</td>\n",
       "      <td>0.0</td>\n",
       "      <td>3</td>\n",
       "      <td>166.7</td>\n",
       "      <td>113</td>\n",
       "      <td>41.0</td>\n",
       "      <td>7.42</td>\n",
       "      <td>10.1</td>\n",
       "    </tr>\n",
       "  </tbody>\n",
       "</table>\n",
       "</div>"
      ],
      "text/plain": [
       "   Leave  MemberWeeks  NewContract  IsData  DataAmount  Callcenter  CalMins  \\\n",
       "0      0          128            1       1         2.7           1    265.1   \n",
       "1      0          107            1       1         3.7           1    161.6   \n",
       "2      0          137            1       0         0.0           0    243.4   \n",
       "3      0           84            0       0         0.0           2    299.4   \n",
       "4      0           75            0       0         0.0           3    166.7   \n",
       "\n",
       "   CalCounts  MonthlyFee  OverFee  RoamingMin  \n",
       "0        110        89.0     9.87        10.0  \n",
       "1        123        82.0     9.78        13.7  \n",
       "2        114        52.0     6.06        12.2  \n",
       "3         71        57.0     3.10         6.6  \n",
       "4        113        41.0     7.42        10.1  "
      ]
     },
     "execution_count": 2,
     "metadata": {},
     "output_type": "execute_result"
    }
   ],
   "source": [
    "# 데이터 불러오기\n",
    "\n",
    "telco = pd.read_csv('data/telco.csv', encoding='cp949')\n",
    "telco.head()"
   ]
  },
  {
   "cell_type": "markdown",
   "metadata": {},
   "source": [
    "-----------------------------------------------------------------\n",
    "\n",
    "## 2. 탐색적 데이터 분석(EDA, Exploratory Data Analysis)\n",
    "\n",
    "#### 탐색적 데이터 분석은 데이터를 만나면 가장 먼저 하는 일로, 데이터의 특성 을 정리 및 요약하고 시각화하는 과정을 말한다.\n",
    "\n",
    "#### 데이터 정보 확인 > 데이터 메모리 줄이기 > 데이터 전처리 > 전체적인 데이터 확인을 위한 간단한 시작화"
   ]
  },
  {
   "cell_type": "code",
   "execution_count": 3,
   "metadata": {},
   "outputs": [
    {
     "name": "stdout",
     "output_type": "stream",
     "text": [
      "<class 'pandas.core.frame.DataFrame'>\n",
      "RangeIndex: 3333 entries, 0 to 3332\n",
      "Data columns (total 11 columns):\n",
      " #   Column       Non-Null Count  Dtype  \n",
      "---  ------       --------------  -----  \n",
      " 0   Leave        3333 non-null   int64  \n",
      " 1   MemberWeeks  3333 non-null   int64  \n",
      " 2   NewContract  3333 non-null   int64  \n",
      " 3   IsData       3333 non-null   int64  \n",
      " 4   DataAmount   3333 non-null   float64\n",
      " 5   Callcenter   3333 non-null   int64  \n",
      " 6   CalMins      3333 non-null   float64\n",
      " 7   CalCounts    3333 non-null   int64  \n",
      " 8   MonthlyFee   3333 non-null   float64\n",
      " 9   OverFee      3333 non-null   float64\n",
      " 10  RoamingMin   3333 non-null   float64\n",
      "dtypes: float64(5), int64(6)\n",
      "memory usage: 286.6 KB\n"
     ]
    }
   ],
   "source": [
    "# 데이터 정보 탐색하기\n",
    "\n",
    "telco.info()"
   ]
  },
  {
   "cell_type": "markdown",
   "metadata": {},
   "source": [
    "데이터는 총 11개의 컬럼을 가지고 있으며 모두 int타입과 float타입의 형태로 구성되어 있다.\n",
    "\n",
    "데이터를 사용하기 전 데이터의 불필요한 메모리를 줄이기 위해\n",
    "\n",
    "수치를 먼저 확인을 한다."
   ]
  },
  {
   "cell_type": "code",
   "execution_count": 4,
   "metadata": {},
   "outputs": [
    {
     "data": {
      "text/html": [
       "<div>\n",
       "<style scoped>\n",
       "    .dataframe tbody tr th:only-of-type {\n",
       "        vertical-align: middle;\n",
       "    }\n",
       "\n",
       "    .dataframe tbody tr th {\n",
       "        vertical-align: top;\n",
       "    }\n",
       "\n",
       "    .dataframe thead th {\n",
       "        text-align: right;\n",
       "    }\n",
       "</style>\n",
       "<table border=\"1\" class=\"dataframe\">\n",
       "  <thead>\n",
       "    <tr style=\"text-align: right;\">\n",
       "      <th></th>\n",
       "      <th>count</th>\n",
       "      <th>mean</th>\n",
       "      <th>std</th>\n",
       "      <th>min</th>\n",
       "      <th>25%</th>\n",
       "      <th>50%</th>\n",
       "      <th>75%</th>\n",
       "      <th>max</th>\n",
       "    </tr>\n",
       "  </thead>\n",
       "  <tbody>\n",
       "    <tr>\n",
       "      <th>Leave</th>\n",
       "      <td>3333.0</td>\n",
       "      <td>0.144914</td>\n",
       "      <td>0.352067</td>\n",
       "      <td>0.0</td>\n",
       "      <td>0.00</td>\n",
       "      <td>0.00</td>\n",
       "      <td>0.00</td>\n",
       "      <td>1.00</td>\n",
       "    </tr>\n",
       "    <tr>\n",
       "      <th>MemberWeeks</th>\n",
       "      <td>3333.0</td>\n",
       "      <td>101.064806</td>\n",
       "      <td>39.822106</td>\n",
       "      <td>1.0</td>\n",
       "      <td>74.00</td>\n",
       "      <td>101.00</td>\n",
       "      <td>127.00</td>\n",
       "      <td>243.00</td>\n",
       "    </tr>\n",
       "    <tr>\n",
       "      <th>NewContract</th>\n",
       "      <td>3333.0</td>\n",
       "      <td>0.903090</td>\n",
       "      <td>0.295879</td>\n",
       "      <td>0.0</td>\n",
       "      <td>1.00</td>\n",
       "      <td>1.00</td>\n",
       "      <td>1.00</td>\n",
       "      <td>1.00</td>\n",
       "    </tr>\n",
       "    <tr>\n",
       "      <th>IsData</th>\n",
       "      <td>3333.0</td>\n",
       "      <td>0.276628</td>\n",
       "      <td>0.447398</td>\n",
       "      <td>0.0</td>\n",
       "      <td>0.00</td>\n",
       "      <td>0.00</td>\n",
       "      <td>1.00</td>\n",
       "      <td>1.00</td>\n",
       "    </tr>\n",
       "    <tr>\n",
       "      <th>DataAmount</th>\n",
       "      <td>3333.0</td>\n",
       "      <td>0.816475</td>\n",
       "      <td>1.272668</td>\n",
       "      <td>0.0</td>\n",
       "      <td>0.00</td>\n",
       "      <td>0.00</td>\n",
       "      <td>1.78</td>\n",
       "      <td>5.40</td>\n",
       "    </tr>\n",
       "    <tr>\n",
       "      <th>Callcenter</th>\n",
       "      <td>3333.0</td>\n",
       "      <td>1.562856</td>\n",
       "      <td>1.315491</td>\n",
       "      <td>0.0</td>\n",
       "      <td>1.00</td>\n",
       "      <td>1.00</td>\n",
       "      <td>2.00</td>\n",
       "      <td>9.00</td>\n",
       "    </tr>\n",
       "    <tr>\n",
       "      <th>CalMins</th>\n",
       "      <td>3333.0</td>\n",
       "      <td>179.775098</td>\n",
       "      <td>54.467389</td>\n",
       "      <td>0.0</td>\n",
       "      <td>143.70</td>\n",
       "      <td>179.40</td>\n",
       "      <td>216.40</td>\n",
       "      <td>350.80</td>\n",
       "    </tr>\n",
       "    <tr>\n",
       "      <th>CalCounts</th>\n",
       "      <td>3333.0</td>\n",
       "      <td>100.435644</td>\n",
       "      <td>20.069084</td>\n",
       "      <td>0.0</td>\n",
       "      <td>87.00</td>\n",
       "      <td>101.00</td>\n",
       "      <td>114.00</td>\n",
       "      <td>165.00</td>\n",
       "    </tr>\n",
       "    <tr>\n",
       "      <th>MonthlyFee</th>\n",
       "      <td>3333.0</td>\n",
       "      <td>56.305161</td>\n",
       "      <td>16.426032</td>\n",
       "      <td>14.0</td>\n",
       "      <td>45.00</td>\n",
       "      <td>53.50</td>\n",
       "      <td>66.20</td>\n",
       "      <td>111.30</td>\n",
       "    </tr>\n",
       "    <tr>\n",
       "      <th>OverFee</th>\n",
       "      <td>3333.0</td>\n",
       "      <td>10.051488</td>\n",
       "      <td>2.535712</td>\n",
       "      <td>0.0</td>\n",
       "      <td>8.33</td>\n",
       "      <td>10.07</td>\n",
       "      <td>11.77</td>\n",
       "      <td>18.19</td>\n",
       "    </tr>\n",
       "    <tr>\n",
       "      <th>RoamingMin</th>\n",
       "      <td>3333.0</td>\n",
       "      <td>10.237294</td>\n",
       "      <td>2.791840</td>\n",
       "      <td>0.0</td>\n",
       "      <td>8.50</td>\n",
       "      <td>10.30</td>\n",
       "      <td>12.10</td>\n",
       "      <td>20.00</td>\n",
       "    </tr>\n",
       "  </tbody>\n",
       "</table>\n",
       "</div>"
      ],
      "text/plain": [
       "              count        mean        std   min     25%     50%     75%  \\\n",
       "Leave        3333.0    0.144914   0.352067   0.0    0.00    0.00    0.00   \n",
       "MemberWeeks  3333.0  101.064806  39.822106   1.0   74.00  101.00  127.00   \n",
       "NewContract  3333.0    0.903090   0.295879   0.0    1.00    1.00    1.00   \n",
       "IsData       3333.0    0.276628   0.447398   0.0    0.00    0.00    1.00   \n",
       "DataAmount   3333.0    0.816475   1.272668   0.0    0.00    0.00    1.78   \n",
       "Callcenter   3333.0    1.562856   1.315491   0.0    1.00    1.00    2.00   \n",
       "CalMins      3333.0  179.775098  54.467389   0.0  143.70  179.40  216.40   \n",
       "CalCounts    3333.0  100.435644  20.069084   0.0   87.00  101.00  114.00   \n",
       "MonthlyFee   3333.0   56.305161  16.426032  14.0   45.00   53.50   66.20   \n",
       "OverFee      3333.0   10.051488   2.535712   0.0    8.33   10.07   11.77   \n",
       "RoamingMin   3333.0   10.237294   2.791840   0.0    8.50   10.30   12.10   \n",
       "\n",
       "                max  \n",
       "Leave          1.00  \n",
       "MemberWeeks  243.00  \n",
       "NewContract    1.00  \n",
       "IsData         1.00  \n",
       "DataAmount     5.40  \n",
       "Callcenter     9.00  \n",
       "CalMins      350.80  \n",
       "CalCounts    165.00  \n",
       "MonthlyFee   111.30  \n",
       "OverFee       18.19  \n",
       "RoamingMin    20.00  "
      ]
     },
     "execution_count": 4,
     "metadata": {},
     "output_type": "execute_result"
    }
   ],
   "source": [
    "# 통계함수를 이용해 min과 max값 확인\n",
    "\n",
    "telco.describe().T"
   ]
  },
  {
   "cell_type": "markdown",
   "metadata": {},
   "source": [
    "통계함수로 각 컬럼의 값을 확인한 결과 min과 max값이 데이터 타입에 비해 상당히 작기 때문에\n",
    "\n",
    "데이터 타입을 재정의 해서 데이터를 불러오기로 한다."
   ]
  },
  {
   "cell_type": "code",
   "execution_count": 5,
   "metadata": {},
   "outputs": [],
   "source": [
    "# 메모리 아끼기 - 데이터 형식변환\n",
    "\n",
    "telco['Leave'] = telco['Leave'].astype(np.int16)\n",
    "telco['MemberWeeks'] = telco['MemberWeeks'].astype(np.int16)\n",
    "telco['NewContract'] = telco['NewContract'].astype(np.int16)\n",
    "telco['IsData'] = telco['IsData'].astype(np.int16)\n",
    "telco['Callcenter'] = telco['Callcenter'].astype(np.int16)\n",
    "telco['CalCounts'] = telco['CalCounts'].astype(np.int16)\n",
    "telco['DataAmount'] = telco['DataAmount'].astype(np.float16)\n",
    "telco['CalMins'] = telco['CalMins'].astype(np.float16)\n",
    "telco['MonthlyFee'] = telco['MonthlyFee'].astype(np.float16)\n",
    "telco['OverFee'] = telco['OverFee'].astype(np.float16)\n",
    "telco['RoamingMin'] = telco['RoamingMin'].astype(np.float16)"
   ]
  },
  {
   "cell_type": "markdown",
   "metadata": {},
   "source": [
    "na값이 있다면 int8, float8은 계산 할 수 없고, 컬럼의 값들 모두가 int16과 float16 범위 안에 들어가므로\n",
    "\n",
    "각 컬럼들의 타입을 int64 -> int16, float64 -> float16으로 바꿔주었다."
   ]
  },
  {
   "cell_type": "code",
   "execution_count": 6,
   "metadata": {},
   "outputs": [
    {
     "data": {
      "text/plain": [
       "Index           128\n",
       "Leave          6666\n",
       "MemberWeeks    6666\n",
       "NewContract    6666\n",
       "IsData         6666\n",
       "DataAmount     6666\n",
       "Callcenter     6666\n",
       "CalMins        6666\n",
       "CalCounts      6666\n",
       "MonthlyFee     6666\n",
       "OverFee        6666\n",
       "RoamingMin     6666\n",
       "dtype: int64"
      ]
     },
     "execution_count": 6,
     "metadata": {},
     "output_type": "execute_result"
    }
   ],
   "source": [
    "# 각 컬럼들의 메모리 확인\n",
    "\n",
    "telco.memory_usage(deep=True)"
   ]
  },
  {
   "cell_type": "code",
   "execution_count": 7,
   "metadata": {},
   "outputs": [
    {
     "name": "stdout",
     "output_type": "stream",
     "text": [
      "<class 'pandas.core.frame.DataFrame'>\n",
      "RangeIndex: 3333 entries, 0 to 3332\n",
      "Data columns (total 11 columns):\n",
      " #   Column       Non-Null Count  Dtype  \n",
      "---  ------       --------------  -----  \n",
      " 0   Leave        3333 non-null   int16  \n",
      " 1   MemberWeeks  3333 non-null   int16  \n",
      " 2   NewContract  3333 non-null   int16  \n",
      " 3   IsData       3333 non-null   int16  \n",
      " 4   DataAmount   3333 non-null   float16\n",
      " 5   Callcenter   3333 non-null   int16  \n",
      " 6   CalMins      3333 non-null   float16\n",
      " 7   CalCounts    3333 non-null   int16  \n",
      " 8   MonthlyFee   3333 non-null   float16\n",
      " 9   OverFee      3333 non-null   float16\n",
      " 10  RoamingMin   3333 non-null   float16\n",
      "dtypes: float16(5), int16(6)\n",
      "memory usage: 71.7 KB\n"
     ]
    }
   ],
   "source": [
    "# 데이터 전체 메모리 확인\n",
    "\n",
    "telco.info()"
   ]
  },
  {
   "cell_type": "markdown",
   "metadata": {},
   "source": [
    "타입을 변경한 결과 메모리 사용량이 4분의 1로 줄은 것을 알 수 있다."
   ]
  },
  {
   "cell_type": "code",
   "execution_count": 8,
   "metadata": {},
   "outputs": [
    {
     "data": {
      "text/html": [
       "<div>\n",
       "<style scoped>\n",
       "    .dataframe tbody tr th:only-of-type {\n",
       "        vertical-align: middle;\n",
       "    }\n",
       "\n",
       "    .dataframe tbody tr th {\n",
       "        vertical-align: top;\n",
       "    }\n",
       "\n",
       "    .dataframe thead th {\n",
       "        text-align: right;\n",
       "    }\n",
       "</style>\n",
       "<table border=\"1\" class=\"dataframe\">\n",
       "  <thead>\n",
       "    <tr style=\"text-align: right;\">\n",
       "      <th></th>\n",
       "      <th>Leave</th>\n",
       "      <th>MemberWeeks</th>\n",
       "      <th>NewContract</th>\n",
       "      <th>IsData</th>\n",
       "      <th>DataAmount</th>\n",
       "      <th>Callcenter</th>\n",
       "      <th>CalMins</th>\n",
       "      <th>CalCounts</th>\n",
       "      <th>MonthlyFee</th>\n",
       "      <th>OverFee</th>\n",
       "      <th>RoamingMin</th>\n",
       "    </tr>\n",
       "  </thead>\n",
       "  <tbody>\n",
       "    <tr>\n",
       "      <th>817</th>\n",
       "      <td>0</td>\n",
       "      <td>243</td>\n",
       "      <td>1</td>\n",
       "      <td>0</td>\n",
       "      <td>0.000000</td>\n",
       "      <td>2</td>\n",
       "      <td>95.500</td>\n",
       "      <td>92</td>\n",
       "      <td>31.00000</td>\n",
       "      <td>8.187500</td>\n",
       "      <td>6.601562</td>\n",
       "    </tr>\n",
       "    <tr>\n",
       "      <th>1408</th>\n",
       "      <td>0</td>\n",
       "      <td>232</td>\n",
       "      <td>1</td>\n",
       "      <td>0</td>\n",
       "      <td>0.140015</td>\n",
       "      <td>1</td>\n",
       "      <td>165.625</td>\n",
       "      <td>104</td>\n",
       "      <td>46.40625</td>\n",
       "      <td>9.796875</td>\n",
       "      <td>11.796875</td>\n",
       "    </tr>\n",
       "    <tr>\n",
       "      <th>1551</th>\n",
       "      <td>1</td>\n",
       "      <td>225</td>\n",
       "      <td>1</td>\n",
       "      <td>0</td>\n",
       "      <td>0.300049</td>\n",
       "      <td>0</td>\n",
       "      <td>165.375</td>\n",
       "      <td>106</td>\n",
       "      <td>55.00000</td>\n",
       "      <td>13.687500</td>\n",
       "      <td>8.703125</td>\n",
       "    </tr>\n",
       "    <tr>\n",
       "      <th>1751</th>\n",
       "      <td>0</td>\n",
       "      <td>225</td>\n",
       "      <td>1</td>\n",
       "      <td>0</td>\n",
       "      <td>0.000000</td>\n",
       "      <td>1</td>\n",
       "      <td>182.750</td>\n",
       "      <td>142</td>\n",
       "      <td>53.00000</td>\n",
       "      <td>12.328125</td>\n",
       "      <td>8.796875</td>\n",
       "    </tr>\n",
       "    <tr>\n",
       "      <th>416</th>\n",
       "      <td>1</td>\n",
       "      <td>224</td>\n",
       "      <td>0</td>\n",
       "      <td>0</td>\n",
       "      <td>0.260010</td>\n",
       "      <td>1</td>\n",
       "      <td>171.500</td>\n",
       "      <td>99</td>\n",
       "      <td>45.59375</td>\n",
       "      <td>8.000000</td>\n",
       "      <td>5.000000</td>\n",
       "    </tr>\n",
       "  </tbody>\n",
       "</table>\n",
       "</div>"
      ],
      "text/plain": [
       "      Leave  MemberWeeks  NewContract  IsData  DataAmount  Callcenter  \\\n",
       "817       0          243            1       0    0.000000           2   \n",
       "1408      0          232            1       0    0.140015           1   \n",
       "1551      1          225            1       0    0.300049           0   \n",
       "1751      0          225            1       0    0.000000           1   \n",
       "416       1          224            0       0    0.260010           1   \n",
       "\n",
       "      CalMins  CalCounts  MonthlyFee    OverFee  RoamingMin  \n",
       "817    95.500         92    31.00000   8.187500    6.601562  \n",
       "1408  165.625        104    46.40625   9.796875   11.796875  \n",
       "1551  165.375        106    55.00000  13.687500    8.703125  \n",
       "1751  182.750        142    53.00000  12.328125    8.796875  \n",
       "416   171.500         99    45.59375   8.000000    5.000000  "
      ]
     },
     "execution_count": 8,
     "metadata": {},
     "output_type": "execute_result"
    }
   ],
   "source": [
    "# 상위 최대 값들과 최소 값들 확인하기\n",
    "# 시각화에 들어가기 전 데이터의 최대 최소값들을 확인해보기\n",
    "# 가입기간이 가장 오래된 사람들 100명 뽑기\n",
    "\n",
    "telco.nlargest(100, 'MemberWeeks').head()"
   ]
  },
  {
   "cell_type": "code",
   "execution_count": 9,
   "metadata": {},
   "outputs": [
    {
     "data": {
      "text/html": [
       "<div>\n",
       "<style scoped>\n",
       "    .dataframe tbody tr th:only-of-type {\n",
       "        vertical-align: middle;\n",
       "    }\n",
       "\n",
       "    .dataframe tbody tr th {\n",
       "        vertical-align: top;\n",
       "    }\n",
       "\n",
       "    .dataframe thead th {\n",
       "        text-align: right;\n",
       "    }\n",
       "</style>\n",
       "<table border=\"1\" class=\"dataframe\">\n",
       "  <thead>\n",
       "    <tr style=\"text-align: right;\">\n",
       "      <th></th>\n",
       "      <th>Leave</th>\n",
       "      <th>MemberWeeks</th>\n",
       "      <th>NewContract</th>\n",
       "      <th>IsData</th>\n",
       "      <th>DataAmount</th>\n",
       "      <th>Callcenter</th>\n",
       "      <th>CalMins</th>\n",
       "      <th>CalCounts</th>\n",
       "      <th>MonthlyFee</th>\n",
       "      <th>OverFee</th>\n",
       "      <th>RoamingMin</th>\n",
       "    </tr>\n",
       "  </thead>\n",
       "  <tbody>\n",
       "    <tr>\n",
       "      <th>2303</th>\n",
       "      <td>0</td>\n",
       "      <td>205</td>\n",
       "      <td>1</td>\n",
       "      <td>0</td>\n",
       "      <td>0.320068</td>\n",
       "      <td>2</td>\n",
       "      <td>49.90625</td>\n",
       "      <td>123</td>\n",
       "      <td>25.203125</td>\n",
       "      <td>7.539062</td>\n",
       "      <td>10.101562</td>\n",
       "    </tr>\n",
       "    <tr>\n",
       "      <th>238</th>\n",
       "      <td>0</td>\n",
       "      <td>215</td>\n",
       "      <td>1</td>\n",
       "      <td>0</td>\n",
       "      <td>0.310059</td>\n",
       "      <td>0</td>\n",
       "      <td>83.62500</td>\n",
       "      <td>148</td>\n",
       "      <td>28.093750</td>\n",
       "      <td>6.050781</td>\n",
       "      <td>10.703125</td>\n",
       "    </tr>\n",
       "    <tr>\n",
       "      <th>1466</th>\n",
       "      <td>0</td>\n",
       "      <td>195</td>\n",
       "      <td>1</td>\n",
       "      <td>0</td>\n",
       "      <td>0.000000</td>\n",
       "      <td>0</td>\n",
       "      <td>63.18750</td>\n",
       "      <td>108</td>\n",
       "      <td>30.000000</td>\n",
       "      <td>11.007812</td>\n",
       "      <td>5.101562</td>\n",
       "    </tr>\n",
       "    <tr>\n",
       "      <th>817</th>\n",
       "      <td>0</td>\n",
       "      <td>243</td>\n",
       "      <td>1</td>\n",
       "      <td>0</td>\n",
       "      <td>0.000000</td>\n",
       "      <td>2</td>\n",
       "      <td>95.50000</td>\n",
       "      <td>92</td>\n",
       "      <td>31.000000</td>\n",
       "      <td>8.187500</td>\n",
       "      <td>6.601562</td>\n",
       "    </tr>\n",
       "    <tr>\n",
       "      <th>1327</th>\n",
       "      <td>1</td>\n",
       "      <td>193</td>\n",
       "      <td>1</td>\n",
       "      <td>0</td>\n",
       "      <td>0.290039</td>\n",
       "      <td>2</td>\n",
       "      <td>96.81250</td>\n",
       "      <td>92</td>\n",
       "      <td>31.906250</td>\n",
       "      <td>7.128906</td>\n",
       "      <td>10.898438</td>\n",
       "    </tr>\n",
       "  </tbody>\n",
       "</table>\n",
       "</div>"
      ],
      "text/plain": [
       "      Leave  MemberWeeks  NewContract  IsData  DataAmount  Callcenter  \\\n",
       "2303      0          205            1       0    0.320068           2   \n",
       "238       0          215            1       0    0.310059           0   \n",
       "1466      0          195            1       0    0.000000           0   \n",
       "817       0          243            1       0    0.000000           2   \n",
       "1327      1          193            1       0    0.290039           2   \n",
       "\n",
       "       CalMins  CalCounts  MonthlyFee    OverFee  RoamingMin  \n",
       "2303  49.90625        123   25.203125   7.539062   10.101562  \n",
       "238   83.62500        148   28.093750   6.050781   10.703125  \n",
       "1466  63.18750        108   30.000000  11.007812    5.101562  \n",
       "817   95.50000         92   31.000000   8.187500    6.601562  \n",
       "1327  96.81250         92   31.906250   7.128906   10.898438  "
      ]
     },
     "execution_count": 9,
     "metadata": {},
     "output_type": "execute_result"
    }
   ],
   "source": [
    "# 가입기간이 가장 오래 된 100명 중 월 평균 요금이 적은 5명의 데이터 출력\n",
    "\n",
    "telco.nlargest(100, 'MemberWeeks').nsmallest(5, 'MonthlyFee')"
   ]
  },
  {
   "cell_type": "markdown",
   "metadata": {},
   "source": [
    "최대, 최소를 찾아주는 메서드를 이용하면 sort_value를 사용하지 않아도 간단하게 원하는 결과를 찾을 수 있다.\n",
    "\n",
    "수치만으로 데이터를 확인하기엔 어려움이 있으니\n",
    "\n",
    "간단한 시각화를 통해 데이터의 전체적인 구성을 확인한다."
   ]
  },
  {
   "cell_type": "markdown",
   "metadata": {},
   "source": [
    "사용하는 데이터는 object타입의 데이터는 없지만 여부를 보여주는 0과 1로 이루어진 데이터는 존재한다.\n",
    "\n",
    "- Leave = 가입해지여부(1이면 해지)\n",
    "\n",
    "- NewContract = 가입갱신여부(1이면 갱신)\n",
    "\n",
    "- IsData = 데이터요금제사용여부(1이면 사용)\n",
    "\n",
    "해당 데이터들로 사용자 분포가 어떻게 되는지 count하여 막대 그래프를 그려보려고 한다."
   ]
  },
  {
   "cell_type": "code",
   "execution_count": 10,
   "metadata": {},
   "outputs": [
    {
     "data": {
      "text/plain": [
       "0    2850\n",
       "1     483\n",
       "Name: Leave, dtype: int64"
      ]
     },
     "execution_count": 10,
     "metadata": {},
     "output_type": "execute_result"
    }
   ],
   "source": [
    "# 가입해지여부 분포 확인\n",
    "\n",
    "telco.Leave.value_counts()"
   ]
  },
  {
   "cell_type": "code",
   "execution_count": 11,
   "metadata": {},
   "outputs": [
    {
     "data": {
      "text/plain": [
       "0"
      ]
     },
     "execution_count": 11,
     "metadata": {},
     "output_type": "execute_result"
    }
   ],
   "source": [
    "# 결측치 확인\n",
    "\n",
    "telco.Leave.isna().sum()"
   ]
  },
  {
   "cell_type": "code",
   "execution_count": 12,
   "metadata": {},
   "outputs": [
    {
     "data": {
      "text/plain": [
       "<BarContainer object of 2 artists>"
      ]
     },
     "execution_count": 12,
     "metadata": {},
     "output_type": "execute_result"
    },
    {
     "data": {
      "image/png": "[encoded data removed]",
      "text/plain": [
       "<Figure size 144x720 with 1 Axes>"
      ]
     },
     "metadata": {
      "needs_background": "light"
     },
     "output_type": "display_data"
    }
   ],
   "source": [
    "# matplotlib 이용\n",
    "import matplotlib.pyplot as plt\n",
    "\n",
    "fig, ax = plt.subplots(figsize=(2, 10))\n",
    "plt.bar(telco.Leave.value_counts().index, telco.Leave.value_counts())"
   ]
  },
  {
   "cell_type": "markdown",
   "metadata": {},
   "source": [
    "여기서 0은 가입자를 가르키고, 1은 해지자를 가르킨다.\n",
    "\n",
    "가입자 수가 해지자 수에 비해 상당히 많은 것을 알 수 있다."
   ]
  },
  {
   "cell_type": "code",
   "execution_count": 13,
   "metadata": {},
   "outputs": [
    {
     "data": {
      "text/plain": [
       "1    3010\n",
       "0     323\n",
       "Name: NewContract, dtype: int64"
      ]
     },
     "execution_count": 13,
     "metadata": {},
     "output_type": "execute_result"
    }
   ],
   "source": [
    "# 가입 갱신자 여부 분포 확인\n",
    "\n",
    "telco.NewContract.value_counts()"
   ]
  },
  {
   "cell_type": "code",
   "execution_count": 14,
   "metadata": {},
   "outputs": [
    {
     "data": {
      "text/plain": [
       "0"
      ]
     },
     "execution_count": 14,
     "metadata": {},
     "output_type": "execute_result"
    }
   ],
   "source": [
    "# 결측치 확인\n",
    "\n",
    "telco.NewContract.isna().sum()"
   ]
  },
  {
   "cell_type": "code",
   "execution_count": 15,
   "metadata": {},
   "outputs": [
    {
     "name": "stderr",
     "output_type": "stream",
     "text": [
      "C:\\ProgramData\\Anaconda3\\lib\\site-packages\\seaborn\\_decorators.py:43: FutureWarning: Pass the following variables as keyword args: x, y. From version 0.12, the only valid positional argument will be `data`, and passing other arguments without an explicit keyword will result in an error or misinterpretation.\n",
      "  FutureWarning\n"
     ]
    },
    {
     "data": {
      "text/plain": [
       "<AxesSubplot:ylabel='NewContract'>"
      ]
     },
     "execution_count": 15,
     "metadata": {},
     "output_type": "execute_result"
    },
    {
     "data": {
      "image/png": "[encoded data removed]",
      "text/plain": [
       "<Figure size 432x288 with 1 Axes>"
      ]
     },
     "metadata": {
      "needs_background": "light"
     },
     "output_type": "display_data"
    }
   ],
   "source": [
    "# seaborn 이용\n",
    "import seaborn as sns\n",
    "\n",
    "sns.barplot(telco.NewContract.value_counts().index, telco.NewContract.value_counts())"
   ]
  },
  {
   "cell_type": "markdown",
   "metadata": {},
   "source": [
    "여기서 가입 갱신자는 1을 가르키며 0은 비갱신자를 가르킨다.\n",
    "\n",
    "가입 갱신자가 비갱신자에 비해 상당히 많은 것을 알 수 있다."
   ]
  },
  {
   "cell_type": "code",
   "execution_count": 16,
   "metadata": {},
   "outputs": [
    {
     "data": {
      "text/plain": [
       "1    1181\n",
       "2     759\n",
       "0     697\n",
       "3     429\n",
       "4     166\n",
       "5      66\n",
       "6      22\n",
       "7       9\n",
       "9       2\n",
       "8       2\n",
       "Name: Callcenter, dtype: int64"
      ]
     },
     "execution_count": 16,
     "metadata": {},
     "output_type": "execute_result"
    }
   ],
   "source": [
    "# 다음은 고객센터 통화수 분포를 알아보고자 한다\n",
    "\n",
    "telco.Callcenter.value_counts(dropna=False)"
   ]
  },
  {
   "cell_type": "code",
   "execution_count": 17,
   "metadata": {},
   "outputs": [
    {
     "data": {
      "text/plain": [
       "<AxesSubplot:>"
      ]
     },
     "execution_count": 17,
     "metadata": {},
     "output_type": "execute_result"
    },
    {
     "data": {
      "image/png": "[encoded data removed]",
      "text/plain": [
       "<Figure size 432x288 with 1 Axes>"
      ]
     },
     "metadata": {
      "needs_background": "light"
     },
     "output_type": "display_data"
    }
   ],
   "source": [
    "# 간단한 plot함수를 이용\n",
    "\n",
    "telco.Callcenter.value_counts(dropna=False).plot(kind='bar')"
   ]
  },
  {
   "cell_type": "markdown",
   "metadata": {},
   "source": [
    "그래프의 결과를 보면 1번이나 2번 고객센터에 통화한 고객이 제일 많고\n",
    "\n",
    "다음은 아예 고객센터에 통화를 하지 않은 수가 많았다.\n",
    "\n",
    "상당 수의 고객들이 고객센터 통화를 잘 하지 않는 것을 알 수 있다."
   ]
  },
  {
   "cell_type": "markdown",
   "metadata": {},
   "source": [
    "---------------------------------------------------------\n",
    "\n",
    "몇 개의 컬럼들을 살펴보고 데이터를 탐색해 보았다.\n",
    "\n",
    "본격적으로 데이터 분석을 해보면서 데이터로부터 의미있는 결과를 도출해보려고 한다."
   ]
  },
  {
   "cell_type": "markdown",
   "metadata": {},
   "source": [
    "## 3. 데이터 분석\n",
    "\n",
    "#### 데이터 분석을 통해 데이터를 용이하게 변환하고 데이터로부터 의미 있는 결과를 도출하는 것이 목적이다.\n",
    "- 데이터 전처리 및 정제\n",
    "- 시각화를 통해 데이터를 이해하기"
   ]
  },
  {
   "cell_type": "code",
   "execution_count": 18,
   "metadata": {},
   "outputs": [
    {
     "data": {
      "text/plain": [
       "Leave          0\n",
       "MemberWeeks    0\n",
       "NewContract    0\n",
       "IsData         0\n",
       "DataAmount     0\n",
       "Callcenter     0\n",
       "CalMins        0\n",
       "CalCounts      0\n",
       "MonthlyFee     0\n",
       "OverFee        0\n",
       "RoamingMin     0\n",
       "dtype: int64"
      ]
     },
     "execution_count": 18,
     "metadata": {},
     "output_type": "execute_result"
    }
   ],
   "source": [
    "# 먼저 데이터 분석에 앞서 na값을 확인하기 위한 과정을 거친다.\n",
    "\n",
    "telco.isna().sum()"
   ]
  },
  {
   "cell_type": "markdown",
   "metadata": {},
   "source": [
    "결측치가 존재하지 않으므로 결측치 처리 과정은 생략한다."
   ]
  },
  {
   "cell_type": "code",
   "execution_count": 19,
   "metadata": {},
   "outputs": [
    {
     "data": {
      "text/plain": [
       "105    43\n",
       "87     42\n",
       "93     40\n",
       "101    40\n",
       "90     39\n",
       "       ..\n",
       "191     1\n",
       "199     1\n",
       "215     1\n",
       "221     1\n",
       "2       1\n",
       "Name: MemberWeeks, Length: 212, dtype: int64"
      ]
     },
     "execution_count": 19,
     "metadata": {},
     "output_type": "execute_result"
    }
   ],
   "source": [
    "# 연속형 데이터(수치)의 분포도를 그려보기\n",
    "\n",
    "telco.MemberWeeks.value_counts(dropna=False)"
   ]
  },
  {
   "cell_type": "markdown",
   "metadata": {},
   "source": [
    "가입기간을 살펴본 결과 연속형 수치 데이터 인 것을 확인 할 수 있다.\n",
    "\n",
    "그래서 count를 하여 막대그래프로 나타내는 것보다 hist() 그래프로 전체적인 연속형 범위를 확인하는 것이 좋다. "
   ]
  },
  {
   "cell_type": "code",
   "execution_count": 20,
   "metadata": {},
   "outputs": [
    {
     "data": {
      "text/plain": [
       "<AxesSubplot:>"
      ]
     },
     "execution_count": 20,
     "metadata": {},
     "output_type": "execute_result"
    },
    {
     "data": {
      "image/png": "[encoded data removed]",
      "text/plain": [
       "<Figure size 720x576 with 1 Axes>"
      ]
     },
     "metadata": {
      "needs_background": "light"
     },
     "output_type": "display_data"
    }
   ],
   "source": [
    "# histogram\n",
    "import matplotlib.pyplot as plt\n",
    "\n",
    "fig, ax = plt.subplots(figsize=(10, 8))\n",
    "telco.MemberWeeks.hist(ax=ax)"
   ]
  },
  {
   "cell_type": "code",
   "execution_count": 21,
   "metadata": {},
   "outputs": [
    {
     "data": {
      "text/plain": [
       "<AxesSubplot:>"
      ]
     },
     "execution_count": 21,
     "metadata": {},
     "output_type": "execute_result"
    },
    {
     "data": {
      "image/png": "[encoded data removed]",
      "text/plain": [
       "<Figure size 720x576 with 1 Axes>"
      ]
     },
     "metadata": {
      "needs_background": "light"
     },
     "output_type": "display_data"
    }
   ],
   "source": [
    "# 막대 그래프가 두꺼워서 세부적인 모양을 보기 어려우니 bin의 갯수를 늘려서 다시 확인한다.\n",
    "\n",
    "fig, ax = plt.subplots(figsize=(10, 8))\n",
    "telco.MemberWeeks.hist(ax=ax, bins=50)"
   ]
  },
  {
   "cell_type": "code",
   "execution_count": 22,
   "metadata": {},
   "outputs": [
    {
     "data": {
      "text/plain": [
       "<AxesSubplot:xlabel='MemberWeeks', ylabel='Count'>"
      ]
     },
     "execution_count": 22,
     "metadata": {},
     "output_type": "execute_result"
    },
    {
     "data": {
      "image/png": "[encoded data removed]",
      "text/plain": [
       "<Figure size 720x576 with 1 Axes>"
      ]
     },
     "metadata": {
      "needs_background": "light"
     },
     "output_type": "display_data"
    }
   ],
   "source": [
    "# seaborn을 이용해 그래프를 보기좋게 만들기\n",
    "\n",
    "fig, ax = plt.subplots(figsize=(10, 8))\n",
    "sns.histplot(telco.MemberWeeks, ax=ax, binwidth=5)"
   ]
  },
  {
   "cell_type": "markdown",
   "metadata": {},
   "source": [
    "가입기간(주) 90~100 구간이 가장 많이 분포되어 있는 것을 확인할 수 있다.\n",
    "\n",
    "전체적으로 봤을 때는 가입한 후 130주 후부터 탈퇴자가 많아지고 200주 이상 가입을 지속하는 고객이 많이 없다는 것을 알 수 있다."
   ]
  },
  {
   "cell_type": "code",
   "execution_count": 23,
   "metadata": {},
   "outputs": [
    {
     "data": {
      "text/plain": [
       "0.000000    1813\n",
       "0.310059      41\n",
       "0.209961      39\n",
       "0.290039      36\n",
       "0.260010      34\n",
       "            ... \n",
       "1.049805       1\n",
       "1.400391       1\n",
       "4.238281       1\n",
       "4.019531       1\n",
       "4.730469       1\n",
       "Name: DataAmount, Length: 174, dtype: int64"
      ]
     },
     "execution_count": 23,
     "metadata": {},
     "output_type": "execute_result"
    }
   ],
   "source": [
    "# 데이터사용량(GB)\n",
    "\n",
    "telco.DataAmount.value_counts(dropna=False)"
   ]
  },
  {
   "cell_type": "code",
   "execution_count": 24,
   "metadata": {},
   "outputs": [
    {
     "data": {
      "text/plain": [
       "179.250    10\n",
       "206.250    10\n",
       "175.750    10\n",
       "193.750    10\n",
       "143.250     9\n",
       "           ..\n",
       "237.500     1\n",
       "195.500     1\n",
       "186.500     1\n",
       "192.875     1\n",
       "294.750     1\n",
       "Name: CalMins, Length: 1434, dtype: int64"
      ]
     },
     "execution_count": 24,
     "metadata": {},
     "output_type": "execute_result"
    }
   ],
   "source": [
    "# 월평균전화량(분)\n",
    "\n",
    "telco.CalMins.value_counts(dropna=False)"
   ]
  },
  {
   "cell_type": "code",
   "execution_count": 25,
   "metadata": {},
   "outputs": [
    {
     "data": {
      "text/plain": [
       "50.00000     84\n",
       "46.00000     75\n",
       "45.00000     74\n",
       "49.00000     73\n",
       "54.00000     72\n",
       "             ..\n",
       "47.90625      1\n",
       "96.31250      1\n",
       "57.59375      1\n",
       "46.50000      1\n",
       "105.18750     1\n",
       "Name: MonthlyFee, Length: 627, dtype: int64"
      ]
     },
     "execution_count": 25,
     "metadata": {},
     "output_type": "execute_result"
    }
   ],
   "source": [
    "# 월평균요금\n",
    "\n",
    "telco.MonthlyFee.value_counts(dropna=False)"
   ]
  },
  {
   "cell_type": "markdown",
   "metadata": {},
   "source": [
    "위의 데이터 모두 연속형 수치 데이터로 분포를 확인하기 위해서 다양한 그래프를 그려보기로 한다."
   ]
  },
  {
   "cell_type": "code",
   "execution_count": 26,
   "metadata": {},
   "outputs": [
    {
     "name": "stderr",
     "output_type": "stream",
     "text": [
      "C:\\ProgramData\\Anaconda3\\lib\\site-packages\\numpy\\core\\_methods.py:192: RuntimeWarning: overflow encountered in reduce\n",
      "  arrmean = umr_sum(arr, axis, dtype, keepdims=True)\n",
      "C:\\ProgramData\\Anaconda3\\lib\\site-packages\\numpy\\core\\function_base.py:144: RuntimeWarning: invalid value encountered in multiply\n",
      "  y *= step\n",
      "C:\\ProgramData\\Anaconda3\\lib\\site-packages\\numpy\\core\\function_base.py:154: RuntimeWarning: invalid value encountered in add\n",
      "  y += start\n",
      "C:\\ProgramData\\Anaconda3\\lib\\site-packages\\numpy\\core\\fromnumeric.py:87: RuntimeWarning: overflow encountered in reduce\n",
      "  return ufunc.reduce(obj, axis, dtype, out, **passkwargs)\n"
     ]
    },
    {
     "data": {
      "text/plain": [
       "<AxesSubplot:xlabel='MonthlyFee'>"
      ]
     },
     "execution_count": 26,
     "metadata": {},
     "output_type": "execute_result"
    },
    {
     "data": {
      "image/png": "[encoded data removed]",
      "text/plain": [
       "<Figure size 720x576 with 3 Axes>"
      ]
     },
     "metadata": {
      "needs_background": "light"
     },
     "output_type": "display_data"
    }
   ],
   "source": [
    "# 연속형 데이터의 분포를 한번에 확인하기\n",
    "# boxplot은 데이터 사용량 분포를\n",
    "# violinplot은 월평균전화량(분) 분포를\n",
    "# boxenplot은 월평균요금 분포를 보여준다\n",
    "\n",
    "fig, axs = plt.subplots(nrows=3, figsize=(10, 8))\n",
    "sns.boxplot(x=telco.DataAmount, ax=axs[0])\n",
    "sns.violinplot(x=telco.CalMins, ax=axs[1])\n",
    "sns.boxenplot(x=telco.MonthlyFee, ax=axs[2])"
   ]
  },
  {
   "cell_type": "markdown",
   "metadata": {},
   "source": [
    "첫 번째 그래프를 보면 데이터 사용량은 0~1.8기가 정도가 가장 많은 분포를 보이며\n",
    "\n",
    "두 번째 그래프를 보면 월평균 통화량(분)은 140분~220분 정도가 가장 많은 분포를 보이고\n",
    "\n",
    "세 번째 그래프를 보면 월평균 요금은 45 이상 65 이하 정도에서 가장 많이 분포되어 있다."
   ]
  },
  {
   "cell_type": "code",
   "execution_count": 27,
   "metadata": {},
   "outputs": [
    {
     "data": {
      "text/plain": [
       "KstestResult(statistic=0.9959498319413672, pvalue=0.0)"
      ]
     },
     "execution_count": 27,
     "metadata": {},
     "output_type": "execute_result"
    }
   ],
   "source": [
    "# SciPy의 kstest를 사용해 정규성 검정을 통해 가입기간 데이터가 정규분포를 띄고 있는지 확인\n",
    "# kstest 에서 p-value 가 0.05 이하라면, 데이터는 정규분포가 아니다.\n",
    "from scipy import stats\n",
    "stats.kstest(telco.MemberWeeks, cdf='norm')"
   ]
  },
  {
   "cell_type": "code",
   "execution_count": 28,
   "metadata": {},
   "outputs": [
    {
     "data": {
      "text/plain": [
       "((array([-3.5297919 , -3.28786833, -3.15418238, ...,  3.15418238,\n",
       "          3.28786833,  3.5297919 ]),\n",
       "  array([  1,   1,   1, ..., 225, 232, 243], dtype=int16)),\n",
       " (39.82425569380445, 101.06480648064806, 0.9992452975727015))"
      ]
     },
     "execution_count": 28,
     "metadata": {},
     "output_type": "execute_result"
    },
    {
     "data": {
      "image/png": "[encoded data removed]",
      "text/plain": [
       "<Figure size 720x576 with 1 Axes>"
      ]
     },
     "metadata": {
      "needs_background": "light"
     },
     "output_type": "display_data"
    }
   ],
   "source": [
    "fig, ax = plt.subplots(figsize=(10, 8))\n",
    "stats.probplot(telco.MemberWeeks, plot=ax)"
   ]
  },
  {
   "cell_type": "code",
   "execution_count": 29,
   "metadata": {},
   "outputs": [
    {
     "data": {
      "text/plain": [
       "KstestResult(statistic=1.0, pvalue=0.0)"
      ]
     },
     "execution_count": 29,
     "metadata": {},
     "output_type": "execute_result"
    }
   ],
   "source": [
    "# 월평균요금 데이터가 정규분포를 띄고 있는지 확인\n",
    "\n",
    "from scipy import stats\n",
    "stats.kstest(telco.MonthlyFee, cdf='norm')"
   ]
  },
  {
   "cell_type": "code",
   "execution_count": 30,
   "metadata": {},
   "outputs": [
    {
     "data": {
      "text/plain": [
       "((array([-3.5297919 , -3.28786833, -3.15418238, ...,  3.15418238,\n",
       "          3.28786833,  3.5297919 ]),\n",
       "  array([ 14. ,  15.7,  16. , ..., 110. , 110. , 111.3], dtype=float16)),\n",
       " (16.20416823375473, 56.3125, 0.9856714377251242))"
      ]
     },
     "execution_count": 30,
     "metadata": {},
     "output_type": "execute_result"
    },
    {
     "data": {
      "image/png": "[encoded data removed]",
      "text/plain": [
       "<Figure size 720x576 with 1 Axes>"
      ]
     },
     "metadata": {
      "needs_background": "light"
     },
     "output_type": "display_data"
    }
   ],
   "source": [
    "fig, ax = plt.subplots(figsize=(10, 8))\n",
    "stats.probplot(telco.MonthlyFee, plot=ax)"
   ]
  },
  {
   "cell_type": "code",
   "execution_count": 31,
   "metadata": {},
   "outputs": [
    {
     "data": {
      "text/html": [
       "<div>\n",
       "<style scoped>\n",
       "    .dataframe tbody tr th:only-of-type {\n",
       "        vertical-align: middle;\n",
       "    }\n",
       "\n",
       "    .dataframe tbody tr th {\n",
       "        vertical-align: top;\n",
       "    }\n",
       "\n",
       "    .dataframe thead th {\n",
       "        text-align: right;\n",
       "    }\n",
       "</style>\n",
       "<table border=\"1\" class=\"dataframe\">\n",
       "  <thead>\n",
       "    <tr style=\"text-align: right;\">\n",
       "      <th></th>\n",
       "      <th>DataAmount</th>\n",
       "    </tr>\n",
       "    <tr>\n",
       "      <th>NewContract</th>\n",
       "      <th></th>\n",
       "    </tr>\n",
       "  </thead>\n",
       "  <tbody>\n",
       "    <tr>\n",
       "      <th>0</th>\n",
       "      <td>0.891113</td>\n",
       "    </tr>\n",
       "    <tr>\n",
       "      <th>1</th>\n",
       "      <td>0.808594</td>\n",
       "    </tr>\n",
       "  </tbody>\n",
       "</table>\n",
       "</div>"
      ],
      "text/plain": [
       "             DataAmount\n",
       "NewContract            \n",
       "0              0.891113\n",
       "1              0.808594"
      ]
     },
     "execution_count": 31,
     "metadata": {},
     "output_type": "execute_result"
    }
   ],
   "source": [
    "# 그룹화와 집계함수를 이용해 가입갱신자 와 비갱신자의 평균 데이터사용량을 구해보자\n",
    "# NewContract = 가입갱신여부, 1이면 갱신, 0이면 비갱신\n",
    "(\n",
    "    telco\n",
    "    .groupby('NewContract')\n",
    "    .agg({'DataAmount':'mean'})\n",
    ")"
   ]
  },
  {
   "cell_type": "markdown",
   "metadata": {},
   "source": [
    "갱신사용자가 비갱신사용자보다 평균 월데이터사용량이 낮은 것을 알 수 있다."
   ]
  },
  {
   "cell_type": "code",
   "execution_count": 33,
   "metadata": {},
   "outputs": [
    {
     "data": {
      "text/html": [
       "<div>\n",
       "<style scoped>\n",
       "    .dataframe tbody tr th:only-of-type {\n",
       "        vertical-align: middle;\n",
       "    }\n",
       "\n",
       "    .dataframe tbody tr th {\n",
       "        vertical-align: top;\n",
       "    }\n",
       "\n",
       "    .dataframe thead tr th {\n",
       "        text-align: left;\n",
       "    }\n",
       "\n",
       "    .dataframe thead tr:last-of-type th {\n",
       "        text-align: right;\n",
       "    }\n",
       "</style>\n",
       "<table border=\"1\" class=\"dataframe\">\n",
       "  <thead>\n",
       "    <tr>\n",
       "      <th></th>\n",
       "      <th colspan=\"2\" halign=\"left\">CalCounts</th>\n",
       "      <th colspan=\"2\" halign=\"left\">CalMins</th>\n",
       "    </tr>\n",
       "    <tr>\n",
       "      <th></th>\n",
       "      <th>sum</th>\n",
       "      <th>mean</th>\n",
       "      <th>sum</th>\n",
       "      <th>mean</th>\n",
       "    </tr>\n",
       "    <tr>\n",
       "      <th>IsData</th>\n",
       "      <th></th>\n",
       "      <th></th>\n",
       "      <th></th>\n",
       "      <th></th>\n",
       "    </tr>\n",
       "  </thead>\n",
       "  <tbody>\n",
       "    <tr>\n",
       "      <th>0</th>\n",
       "      <td>242482.0</td>\n",
       "      <td>100.573206</td>\n",
       "      <td>inf</td>\n",
       "      <td>179.875</td>\n",
       "    </tr>\n",
       "    <tr>\n",
       "      <th>1</th>\n",
       "      <td>92270.0</td>\n",
       "      <td>100.075922</td>\n",
       "      <td>inf</td>\n",
       "      <td>179.625</td>\n",
       "    </tr>\n",
       "  </tbody>\n",
       "</table>\n",
       "</div>"
      ],
      "text/plain": [
       "       CalCounts             CalMins         \n",
       "             sum        mean     sum     mean\n",
       "IsData                                       \n",
       "0       242482.0  100.573206     inf  179.875\n",
       "1        92270.0  100.075922     inf  179.625"
      ]
     },
     "execution_count": 33,
     "metadata": {},
     "output_type": "execute_result"
    }
   ],
   "source": [
    "# 데이터요금제 가입자별 월평균전화수 또는 월평균전화량의 합과 평균 구하기\n",
    "# CalCounts = 월평균전화수(횟수), CalMins = 월평균전화량(분)\n",
    "# IsData = 데이터요금제사용여부, 1이면 사용, 0이면 미사용\n",
    "\n",
    "(\n",
    "    telco\n",
    "    .groupby(['IsData'])\n",
    "    [['CalCounts', 'CalMins']]\n",
    "    .agg(['sum', 'mean'])\n",
    ")"
   ]
  },
  {
   "cell_type": "markdown",
   "metadata": {},
   "source": [
    "CalCounts = 월평균전화수(횟수)의 sum(합)과 mean(평균)을 보면 평균은 비슷하나\n",
    "\n",
    "합계값이 데이터요금제 미사용자가 훨씬 많음을 알 수 있다.\n",
    "\n",
    "또 데이터요금제에 가입한 사람과 가입하지 않은 사람들의 통화량과 통화횟수는 크게 차이가 없는 것으로 보인다. "
   ]
  },
  {
   "cell_type": "code",
   "execution_count": 34,
   "metadata": {},
   "outputs": [
    {
     "data": {
      "text/html": [
       "<div>\n",
       "<style scoped>\n",
       "    .dataframe tbody tr th:only-of-type {\n",
       "        vertical-align: middle;\n",
       "    }\n",
       "\n",
       "    .dataframe tbody tr th {\n",
       "        vertical-align: top;\n",
       "    }\n",
       "\n",
       "    .dataframe thead th {\n",
       "        text-align: right;\n",
       "    }\n",
       "</style>\n",
       "<table border=\"1\" class=\"dataframe\">\n",
       "  <thead>\n",
       "    <tr style=\"text-align: right;\">\n",
       "      <th></th>\n",
       "      <th>Leave</th>\n",
       "      <th>weeks_sum</th>\n",
       "      <th>weeks_mean</th>\n",
       "      <th>MonthlyFee_min</th>\n",
       "      <th>MonthlyFee_max</th>\n",
       "    </tr>\n",
       "  </thead>\n",
       "  <tbody>\n",
       "    <tr>\n",
       "      <th>0</th>\n",
       "      <td>0</td>\n",
       "      <td>287262</td>\n",
       "      <td>100</td>\n",
       "      <td>15</td>\n",
       "      <td>111</td>\n",
       "    </tr>\n",
       "    <tr>\n",
       "      <th>1</th>\n",
       "      <td>1</td>\n",
       "      <td>49587</td>\n",
       "      <td>102</td>\n",
       "      <td>14</td>\n",
       "      <td>110</td>\n",
       "    </tr>\n",
       "  </tbody>\n",
       "</table>\n",
       "</div>"
      ],
      "text/plain": [
       "   Leave  weeks_sum  weeks_mean  MonthlyFee_min  MonthlyFee_max\n",
       "0      0     287262         100              15             111\n",
       "1      1      49587         102              14             110"
      ]
     },
     "execution_count": 34,
     "metadata": {},
     "output_type": "execute_result"
    }
   ],
   "source": [
    "# 가입자와 해지자의 가입기간의 합과 평균 그리고 월평균요금의 최대값과 최소값 찾기\n",
    "# Leave = 가입해지여부, 1이면 해지자, 0이면 가입자\n",
    "# MemberWeeks = 가입기간, MonthlyFee = 월평균요금\n",
    "\n",
    "(\n",
    "    telco\n",
    "    .groupby(['Leave'])\n",
    "    .agg(weeks_sum=pd.NamedAgg(column='MemberWeeks', aggfunc='sum'),\n",
    "         weeks_mean=pd.NamedAgg(column='MemberWeeks', aggfunc='mean'),\n",
    "         MonthlyFee_min=pd.NamedAgg(column='MonthlyFee', aggfunc='min'),\n",
    "         MonthlyFee_max=pd.NamedAgg(column='MonthlyFee', aggfunc='max'))\n",
    "    .astype(int)\n",
    "    .reset_index()\n",
    ")"
   ]
  },
  {
   "cell_type": "markdown",
   "metadata": {},
   "source": [
    "가입해지자와 가입자의 가입기간 평균을 봤을 때 가입해지자의 가입기간이 더 높은 것으로 보아 가입기간이 오래되면 해지하는 것으로 생각된다.\n",
    "\n",
    "그리고 가입자와 해지자의 월평균 요금의 가장 큰값과 작은 값을 살펴보았을 때 두 부류 모두 비슷한 경향을 띄고 있다."
   ]
  },
  {
   "cell_type": "code",
   "execution_count": 37,
   "metadata": {},
   "outputs": [
    {
     "data": {
      "text/html": [
       "<div>\n",
       "<style scoped>\n",
       "    .dataframe tbody tr th:only-of-type {\n",
       "        vertical-align: middle;\n",
       "    }\n",
       "\n",
       "    .dataframe tbody tr th {\n",
       "        vertical-align: top;\n",
       "    }\n",
       "\n",
       "    .dataframe thead tr th {\n",
       "        text-align: left;\n",
       "    }\n",
       "\n",
       "    .dataframe thead tr:last-of-type th {\n",
       "        text-align: right;\n",
       "    }\n",
       "</style>\n",
       "<table border=\"1\" class=\"dataframe\">\n",
       "  <thead>\n",
       "    <tr>\n",
       "      <th></th>\n",
       "      <th colspan=\"2\" halign=\"left\">MemberWeeks</th>\n",
       "      <th colspan=\"2\" halign=\"left\">CalMins</th>\n",
       "      <th colspan=\"2\" halign=\"left\">CalCounts</th>\n",
       "      <th colspan=\"2\" halign=\"left\">MonthlyFee</th>\n",
       "    </tr>\n",
       "    <tr>\n",
       "      <th></th>\n",
       "      <th>mean</th>\n",
       "      <th>std</th>\n",
       "      <th>mean</th>\n",
       "      <th>std</th>\n",
       "      <th>mean</th>\n",
       "      <th>std</th>\n",
       "      <th>mean</th>\n",
       "      <th>std</th>\n",
       "    </tr>\n",
       "    <tr>\n",
       "      <th>Leave</th>\n",
       "      <th></th>\n",
       "      <th></th>\n",
       "      <th></th>\n",
       "      <th></th>\n",
       "      <th></th>\n",
       "      <th></th>\n",
       "      <th></th>\n",
       "      <th></th>\n",
       "    </tr>\n",
       "  </thead>\n",
       "  <tbody>\n",
       "    <tr>\n",
       "      <th>0</th>\n",
       "      <td>100.793684</td>\n",
       "      <td>39.88235</td>\n",
       "      <td>175.125</td>\n",
       "      <td>50.182058</td>\n",
       "      <td>100.283158</td>\n",
       "      <td>19.801157</td>\n",
       "      <td>55.8125</td>\n",
       "      <td>16.439384</td>\n",
       "    </tr>\n",
       "    <tr>\n",
       "      <th>1</th>\n",
       "      <td>102.664596</td>\n",
       "      <td>39.46782</td>\n",
       "      <td>206.875</td>\n",
       "      <td>68.997679</td>\n",
       "      <td>101.335404</td>\n",
       "      <td>21.582307</td>\n",
       "      <td>59.1875</td>\n",
       "      <td>16.065946</td>\n",
       "    </tr>\n",
       "  </tbody>\n",
       "</table>\n",
       "</div>"
      ],
      "text/plain": [
       "      MemberWeeks            CalMins              CalCounts             \\\n",
       "             mean       std     mean        std        mean        std   \n",
       "Leave                                                                    \n",
       "0      100.793684  39.88235  175.125  50.182058  100.283158  19.801157   \n",
       "1      102.664596  39.46782  206.875  68.997679  101.335404  21.582307   \n",
       "\n",
       "      MonthlyFee             \n",
       "            mean        std  \n",
       "Leave                        \n",
       "0        55.8125  16.439384  \n",
       "1        59.1875  16.065946  "
      ]
     },
     "execution_count": 37,
     "metadata": {},
     "output_type": "execute_result"
    }
   ],
   "source": [
    "# 범주 간 연속값 비교하기\n",
    "# 위에서 본 가입해지자와 가입자를 가지고 연속값을 간진 컬럼들을 비교하려고 한다.\n",
    "# 비교할 컬럼은 MemberWeeks(가입기간), CalMins(월평균통화량), CalCounts(월평균통화횟수), MonthlyFee(월평균요금) 이다.\n",
    "\n",
    "telco_leave = (\n",
    "                    telco\n",
    "                    .groupby(['Leave'])\n",
    "                    [['MemberWeeks', 'CalMins', 'CalCounts', 'MonthlyFee']]\n",
    "                    .agg(['mean', 'std'])\n",
    ")\n",
    "telco_leave"
   ]
  },
  {
   "cell_type": "code",
   "execution_count": 46,
   "metadata": {},
   "outputs": [
    {
     "data": {
      "text/plain": [
       "<AxesSubplot:>"
      ]
     },
     "execution_count": 46,
     "metadata": {},
     "output_type": "execute_result"
    },
    {
     "data": {
      "image/png": "[encoded data removed]",
      "text/plain": [
       "<Figure size 1440x720 with 1 Axes>"
      ]
     },
     "metadata": {
      "needs_background": "light"
     },
     "output_type": "display_data"
    }
   ],
   "source": [
    "# 위 내용을 박스 플롯으로 비교\n",
    "\n",
    "telco_leave.boxplot(figsize = (20, 10))"
   ]
  },
  {
   "cell_type": "code",
   "execution_count": 43,
   "metadata": {},
   "outputs": [
    {
     "data": {
      "text/plain": [
       "<seaborn.axisgrid.FacetGrid at 0x2a1a6026808>"
      ]
     },
     "execution_count": 43,
     "metadata": {},
     "output_type": "execute_result"
    },
    {
     "data": {
      "image/png": "[encoded data removed]",
      "text/plain": [
       "<Figure size 360x360 with 1 Axes>"
      ]
     },
     "metadata": {
      "needs_background": "light"
     },
     "output_type": "display_data"
    }
   ],
   "source": [
    "sns.catplot(data = telco_leave, kind='box')"
   ]
  },
  {
   "cell_type": "markdown",
   "metadata": {},
   "source": [
    "여러개의 박스 플롯을 비교하면 편리하다는 장점이 있지만 이렇게 각 그룹의 데이터의 샘플 사이즈가 달라서 제대로된 결과를 도출할 수 없다."
   ]
  },
  {
   "cell_type": "code",
   "execution_count": 47,
   "metadata": {},
   "outputs": [
    {
     "data": {
      "text/plain": [
       "0.2319023018748452"
      ]
     },
     "execution_count": 47,
     "metadata": {},
     "output_type": "execute_result"
    }
   ],
   "source": [
    "# 상관 관계를 비교하여 어느 컬럼이 서로에게 영향을 주는지 알아보고자 한다.\n",
    "# 먼저 공분산 확인\n",
    "\n",
    "# 가입해지여부와 가입기간의 공분산\n",
    "telco.Leave.cov(telco.MemberWeeks)"
   ]
  },
  {
   "cell_type": "code",
   "execution_count": 48,
   "metadata": {},
   "outputs": [
    {
     "data": {
      "text/plain": [
       "0.538635571020359"
      ]
     },
     "execution_count": 48,
     "metadata": {},
     "output_type": "execute_result"
    }
   ],
   "source": [
    "# 데이터 사용량과 데이터 요금제 가입여부의 공분산\n",
    "\n",
    "telco.DataAmount.cov(telco.IsData)"
   ]
  },
  {
   "cell_type": "code",
   "execution_count": 54,
   "metadata": {},
   "outputs": [
    {
     "data": {
      "text/plain": [
       "<AxesSubplot:>"
      ]
     },
     "execution_count": 54,
     "metadata": {},
     "output_type": "execute_result"
    },
    {
     "data": {
      "image/png": "[encoded data removed]",
      "text/plain": [
       "<Figure size 720x720 with 2 Axes>"
      ]
     },
     "metadata": {
      "needs_background": "light"
     },
     "output_type": "display_data"
    }
   ],
   "source": [
    "# 여러 변수의 상관 관계를 그래프로 표현\n",
    "# 상관 관계를 비교할 컬럼은 데이터요금제 가입여부, 가입 해지여부, 월 평균 데이터사용량, 월 평균 통화량, 월 평균 요금이다.\n",
    "\n",
    "fig, ax = plt.subplots(figsize=(10, 10))\n",
    "corr = telco[['IsData', 'Leave', 'DataAmount', 'CalMins', 'MonthlyFee']].corr()\n",
    "mask = np.zeros_like(corr, dtype=np.bool)\n",
    "mask[np.triu_indices_from(mask)] = True\n",
    "sns.heatmap(\n",
    " corr,\n",
    " mask=mask,\n",
    " fmt='.2f',\n",
    " annot=True,\n",
    " ax=ax,\n",
    " cmap='RdBu',\n",
    " vmin=-1,\n",
    " vmax=1,\n",
    " square=True\n",
    ")\n"
   ]
  },
  {
   "cell_type": "markdown",
   "metadata": {},
   "source": [
    "상관관계 그래프를 그려본 결과\n",
    "\n",
    "데이터 요금제 가입여부와 월 데이터 사용량 평균에 대해 뚜렷한 상관 관계를 보이고 있고,\n",
    "\n",
    "데이터 요금제 가입여부와 월 평균 요금 / 월 평균 데이터 사용량과 월 평균 요금에 대한 상관 관계도 높은 수치를 나타낸다.\n",
    "\n",
    "그리고 월 평균 통화량과 월 평균 요금에 대한 상관관계도 어느정도 있는 것으로 나타난다.\n",
    "\n",
    "나머지는 서로 관계가 없거나 수치가 미미하다."
   ]
  },
  {
   "cell_type": "code",
   "execution_count": 58,
   "metadata": {},
   "outputs": [
    {
     "data": {
      "image/png": "[encoded data removed]",
      "text/plain": [
       "<Figure size 360x360 with 1 Axes>"
      ]
     },
     "metadata": {
      "needs_background": "light"
     },
     "output_type": "display_data"
    }
   ],
   "source": [
    "# 상관관계의 산포도와 회귀선 그리기\n",
    "# 위에서 높은 수치로 나온 상관관계의 컬럼 들을 가지고 산포도와 회귀선을 그려보려고 한다.\n",
    "# 월 평균 요금과 월 데이터 사용량의 비교 산포도 이다.\n",
    "\n",
    "res = sns.lmplot(\n",
    " x='MonthlyFee', y='DataAmount', data=telco\n",
    ")"
   ]
  },
  {
   "cell_type": "markdown",
   "metadata": {},
   "source": [
    "앞서 그린 상관관계 그래프에서 상관관계가 있다고 결과가 나왔는데\n",
    "\n",
    "산포도를 그려보니 데이터 사용량이 0~1기가 인 경우는 월 평균 요금과 상관이 없는 것으로 퍼져서 분포되어 보인다.\n",
    "\n",
    "즉 월 평균 데이터 사용량이 1기가 이상부터 월 평균 요금에 영향을 준다고 볼 수 있다."
   ]
  },
  {
   "cell_type": "code",
   "execution_count": 65,
   "metadata": {},
   "outputs": [
    {
     "data": {
      "text/plain": [
       "<AxesSubplot:xlabel='NewContract', ylabel='count'>"
      ]
     },
     "execution_count": 65,
     "metadata": {},
     "output_type": "execute_result"
    },
    {
     "data": {
      "image/png": "[encoded data removed]",
      "text/plain": [
       "<Figure size 720x1152 with 1 Axes>"
      ]
     },
     "metadata": {
      "needs_background": "light"
     },
     "output_type": "display_data"
    }
   ],
   "source": [
    "# 마지막으로 누적 막대 그래프를 이용해 갱신자와 비갱신자의 고객센터 통화수를 보여주는 시각화를 해보려고 한다.\n",
    "\n",
    "fig, ax = plt.subplots(figsize=(10, 16))\n",
    "sns.countplot(\n",
    " x='NewContract',\n",
    " hue='Callcenter',\n",
    " data=telco,\n",
    " dodge=False\n",
    ")"
   ]
  },
  {
   "cell_type": "code",
   "execution_count": 66,
   "metadata": {},
   "outputs": [
    {
     "data": {
      "text/plain": [
       "<AxesSubplot:xlabel='NewContract'>"
      ]
     },
     "execution_count": 66,
     "metadata": {},
     "output_type": "execute_result"
    },
    {
     "data": {
      "image/png": "[encoded data removed]",
      "text/plain": [
       "<Figure size 720x576 with 1 Axes>"
      ]
     },
     "metadata": {
      "needs_background": "light"
     },
     "output_type": "display_data"
    }
   ],
   "source": [
    "# 비율을 고정시킨 막대그래프\n",
    "\n",
    "fig, ax = plt.subplots(figsize=(10, 8))\n",
    "(\n",
    " telco.pipe(\n",
    " lambda df_: pd.crosstab(df_.NewContract, df_.Callcenter)\n",
    " )\n",
    " .pipe(lambda df_: df_.div(df_.sum(axis=1), axis=0))\n",
    " .plot.bar(stacked=True, ax=ax)\n",
    ")"
   ]
  },
  {
   "cell_type": "markdown",
   "metadata": {},
   "source": [
    "갱신자와 비갱신자의 수가 차이가 나서 비교가 쉽지않아 비율을 비교하는 그래프를 그려보았다.\n",
    "\n",
    "그래프 결과 갱신자와 비갱신자의 고객센터 통화수는 비슷하게 분포되어 있는 것으로 보인다.\n",
    "\n",
    "다만, 비갱신자의 소수의 사람들이 9회 이상의 통화수를 기록한 것으로 보여지고\n",
    "\n",
    "갱신자에서는 6회 이상 전화를 건 사람들은 별로 없는 것으로 나타난다."
   ]
  },
  {
   "cell_type": "markdown",
   "metadata": {},
   "source": [
    "-------------------------------------------------------------\n",
    "## 4. 결론\n",
    "\n",
    "### 데이터를 분석한 결과 및 의견\n",
    "\n",
    "\n",
    "1. 가입한 후 130주 후부터 탈퇴자가 많아지고 200주 이상 가입을 지속하는 고객이 많이 없다는 것\n",
    "- 그를 해결하기 위해 장기 가입자들의 혜택을 늘려 가입을 더 오래 지속시킬 수 있도록 해야한다.\n",
    "\n",
    "\n",
    "2. 데이터 요금제를 가입한 사람들은 가입하지 않은 사람들보다 더 많은 데이터를 사용한다.\n",
    "- 데이터 요금제를 더 많이 가입시키기 위해 좀 더 다양한 요금제의 마련이 필요한 것으로 보인다.\n",
    "\n",
    "\n",
    "3. 월 데이터 사용량과 월 통화량이 많을 수록 월 평균 요금이 올라간다.\n",
    "- 당연한 부분이지만 해당 분포도를 확인한 결과 데이터를 적게 사용하는 사람들도 평균 요금이 높은 경우가 많이 있었다. 그뜻은 적은 데이터를 사용하고 많은 통화량을 쓴다는 의미로 데이터 요금제와 통화 요금제를 고객들이 원하는대로 골라 합해서 들 수 있는 요금제를 마련하면 좋을 것 같다.  \n",
    "\n",
    "\n",
    "------------------------------------------------------------\n",
    "이상으로 프로그래밍3 기말 과제를 마치겠습니다. 감사합니다."
   ]
  }
 ],
 "metadata": {
  "kernelspec": {
   "display_name": "Python 3",
   "language": "python",
   "name": "python3"
  },
  "language_info": {
   "codemirror_mode": {
    "name": "ipython",
    "version": 3
   },
   "file_extension": ".py",
   "mimetype": "text/x-python",
   "name": "python",
   "nbconvert_exporter": "python",
   "pygments_lexer": "ipython3",
   "version": "3.7.9"
  }
 },
 "nbformat": 4,
 "nbformat_minor": 4
}
